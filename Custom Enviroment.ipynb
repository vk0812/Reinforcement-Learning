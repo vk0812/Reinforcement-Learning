{
 "cells": [
  {
   "cell_type": "code",
   "execution_count": 1,
   "id": "057f4bf7",
   "metadata": {},
   "outputs": [],
   "source": [
    "import numpy as np\n",
    "import matplotlib.pyplot as plt\n",
    "from PIL import Image\n",
    "import cv2\n",
    "import pickle \n",
    "import time\n",
    "from matplotlib import style\n",
    "\n",
    "style.use(\"ggplot\")"
   ]
  },
  {
   "cell_type": "code",
   "execution_count": 2,
   "id": "b1b49670",
   "metadata": {},
   "outputs": [],
   "source": [
    "SIZE = 10                     # 10 by 10 Grid (Our Enviroment)\n",
    "EPISODES = 40000              # Total Episodes\n",
    "MOVE_REWARD = -1              # Reward per move \n",
    "ENEMY_REWARD = -300           # Reward on reaching enemy\n",
    "GOAL_REWARD = 25              # Reward on reaching goal\n",
    "epsilon = 0.5                 # Epsilon (for exploration and exploitation trade off)\n",
    "START_EPSILON = 10            # Starting Episode for using epsilon\n",
    "END_EPSILON = EPISODES // 2   # Ending Episode for using epsilon\n",
    "EPSILON_DECAY = epsilon / (END_EPSILON - START_EPSILON) # Decay \n",
    "SHOW_EVERY = 2000             # For printing message every 2000 episodes\n",
    "LEARNING_RATE = 0.1           # Learning Rate\n",
    "DISCOUNT = 0.9                # Discount Factor\n",
    "\n",
    "initial_q_table = None        # Pre-existing Q-Table can be given here\n",
    "\n",
    "PLAYER_I = 1                  # Player index in dictionary\n",
    "GOAL_I = 2                    # Goal index in dictionary\n",
    "ENEMY_I = 3                   # Enemy index in dictionary\n",
    "\n",
    "color = {1:(255,0,0),2:(0,255,0),3:(0,0,255)} # PLAYER - BLUE , GOAL - GREEN , ENEMY - RED (BGR for open-cv) "
   ]
  },
  {
   "cell_type": "code",
   "execution_count": 3,
   "id": "9740d526",
   "metadata": {},
   "outputs": [],
   "source": [
    "class Square():\n",
    "    def __init__(self): # constructor\n",
    "        self.x = np.random.randint(0,SIZE)\n",
    "        self.y = np.random.randint(0,SIZE)\n",
    "        \n",
    "    def __str__(self):\n",
    "        return f\"{self.x},{self.y}\"\n",
    "    \n",
    "    def __sub__(self,other): # operator overloading\n",
    "        return (self.x-other.x,self.y-other.y)\n",
    "    \n",
    "    def action(self,choice): # 4 choices\n",
    "        if choice==0:\n",
    "            self.move(x=1,y=1)\n",
    "        elif choice==1:\n",
    "            self.move(x=-1,y=-1)\n",
    "        elif choice==2:\n",
    "            self.move(x=1,y=-1)\n",
    "        elif choice==3:\n",
    "            self.move(x=-1,y=1)\n",
    "            \n",
    "    def move(self,x=False,y=False): # moving depending on choices\n",
    "        if not x:\n",
    "            self.x += np.random.randint(-1,2)\n",
    "        else:\n",
    "            self.x += x\n",
    "            \n",
    "        if not y:\n",
    "            self.y += np.random.randint(-1,2)\n",
    "        else:\n",
    "            self.y += y\n",
    "            \n",
    "        if self.x < 0:\n",
    "            self.x = 0\n",
    "        elif self.x >= SIZE:\n",
    "            self.x = SIZE-1\n",
    "            \n",
    "        if self.y < 0:\n",
    "            self.y = 0\n",
    "        elif self.y >= SIZE:\n",
    "            self.y = SIZE-1"
   ]
  },
  {
   "cell_type": "code",
   "execution_count": 4,
   "id": "aa6c63dc",
   "metadata": {},
   "outputs": [
    {
     "name": "stdout",
     "output_type": "stream",
     "text": [
      "2,6\n",
      "1,1\n",
      "8,6\n"
     ]
    }
   ],
   "source": [
    "player = Square()\n",
    "enemy = Square()\n",
    "goal = Square()\n",
    "\n",
    "print(player)\n",
    "print(enemy)\n",
    "print(goal)\n",
    "# player.action(3)\n",
    "# player.move()\n",
    "# print(player)"
   ]
  },
  {
   "cell_type": "code",
   "execution_count": 5,
   "id": "abeea76e",
   "metadata": {},
   "outputs": [],
   "source": [
    "if initial_q_table is None: # Q-Table Initilising\n",
    "    q_table = {}\n",
    "    for x1 in range(-SIZE+1,SIZE):\n",
    "        for y1 in range(-SIZE+1,SIZE):\n",
    "            for x2 in range(-SIZE+1,SIZE):\n",
    "                for y2 in range(-SIZE+1,SIZE):\n",
    "                    # q_table[((x1,y1),(x2,y2))] = [np.random.uniform(-5, 0) for i in range(4)]\n",
    "                    q_table[((x1,y1),(x2,y2))] = [0,0,0,0]\n",
    "else:\n",
    "    with open(initial_q_table, \"rb\") as f:\n",
    "        q_table = pickle.load(f)"
   ]
  },
  {
   "cell_type": "code",
   "execution_count": 6,
   "id": "6d086196",
   "metadata": {},
   "outputs": [
    {
     "name": "stdout",
     "output_type": "stream",
     "text": [
      "on #0, Epsilon is 0.5\n",
      "Last 2000 Episode Rewards Mean: nan\n"
     ]
    },
    {
     "name": "stderr",
     "output_type": "stream",
     "text": [
      "C:\\Users\\Vidit\\AppData\\Local\\Programs\\Python\\Python310\\lib\\site-packages\\numpy\\core\\fromnumeric.py:3474: RuntimeWarning: Mean of empty slice.\n",
      "  return _methods._mean(a, axis=axis, dtype=dtype,\n",
      "C:\\Users\\Vidit\\AppData\\Local\\Programs\\Python\\Python310\\lib\\site-packages\\numpy\\core\\_methods.py:189: RuntimeWarning: invalid value encountered in double_scalars\n",
      "  ret = ret.dtype.type(ret / rcount)\n"
     ]
    },
    {
     "name": "stdout",
     "output_type": "stream",
     "text": [
      "on #2000, Epsilon is 0.45022511255624853\n",
      "Last 2000 Episode Rewards Mean: -162.8585\n",
      "on #4000, Epsilon is 0.40020010004996565\n",
      "Last 2000 Episode Rewards Mean: -117.11\n",
      "on #6000, Epsilon is 0.35017508754368276\n",
      "Last 2000 Episode Rewards Mean: -85.1535\n",
      "on #8000, Epsilon is 0.3001500750373999\n",
      "Last 2000 Episode Rewards Mean: -68.934\n",
      "on #10000, Epsilon is 0.250125062531117\n",
      "Last 2000 Episode Rewards Mean: -61.5225\n",
      "on #12000, Epsilon is 0.2001000500248895\n",
      "Last 2000 Episode Rewards Mean: -51.8895\n",
      "on #14000, Epsilon is 0.15007503751866214\n",
      "Last 2000 Episode Rewards Mean: -49.7895\n",
      "on #16000, Epsilon is 0.10005002501242091\n",
      "Last 2000 Episode Rewards Mean: -41.448\n",
      "on #18000, Epsilon is 0.050025012506165784\n",
      "Last 2000 Episode Rewards Mean: -33.761\n",
      "on #20000, Epsilon is -8.851942209829947e-14\n",
      "Last 2000 Episode Rewards Mean: -30.203\n",
      "on #22000, Epsilon is -2.5012506341645987e-05\n",
      "Last 2000 Episode Rewards Mean: -22.2725\n",
      "on #24000, Epsilon is -2.5012506341645987e-05\n",
      "Last 2000 Episode Rewards Mean: -22.8645\n",
      "on #26000, Epsilon is -2.5012506341645987e-05\n",
      "Last 2000 Episode Rewards Mean: -14.1065\n",
      "on #28000, Epsilon is -2.5012506341645987e-05\n",
      "Last 2000 Episode Rewards Mean: -10.893\n",
      "on #30000, Epsilon is -2.5012506341645987e-05\n",
      "Last 2000 Episode Rewards Mean: -12.491\n",
      "on #32000, Epsilon is -2.5012506341645987e-05\n",
      "Last 2000 Episode Rewards Mean: -7.9905\n",
      "on #34000, Epsilon is -2.5012506341645987e-05\n",
      "Last 2000 Episode Rewards Mean: -8.094\n",
      "on #36000, Epsilon is -2.5012506341645987e-05\n",
      "Last 2000 Episode Rewards Mean: -7.138\n",
      "on #38000, Epsilon is -2.5012506341645987e-05\n",
      "Last 2000 Episode Rewards Mean: -4.016\n"
     ]
    }
   ],
   "source": [
    "episode_rewards = [] # stores rewards per episode\n",
    "\n",
    "for episode in range(EPISODES):\n",
    "    player = Square()\n",
    "    enemy = Square()\n",
    "    goal = Square()\n",
    "    \n",
    "    if episode % SHOW_EVERY == 0:\n",
    "        print(f\"on #{episode}, Epsilon is {epsilon}\")\n",
    "        print(f\"Last {SHOW_EVERY} Episode Rewards Mean: {np.mean(episode_rewards[-SHOW_EVERY:])}\")\n",
    "        show = True\n",
    "    else:\n",
    "        show = False\n",
    "        \n",
    "    episode_reward = 0 # to store reward per episode\n",
    "    for i in range(200): # max steps is 200\n",
    "        obs = (player-goal,player-enemy) # current observation state\n",
    "        \n",
    "        if np.random.random() > epsilon: # best action according to Q-Table\n",
    "            action = np.argmax(q_table[obs])\n",
    "        else:                            # random action for exploration\n",
    "            action = np.random.randint(0,4)\n",
    "            \n",
    "        player.action(action) # taking that action\n",
    "         \n",
    "        #enemy.move()\n",
    "        #goal.move()\n",
    "        \n",
    "        if player.x == enemy.x and player.y == enemy.y: # if lands on enemy\n",
    "            reward = ENEMY_REWARD # reward for that step\n",
    "        elif player.x == goal.x and player.y == goal.y: # if lands on goal\n",
    "            reward = GOAL_REWARD # reward for that step\n",
    "        else:                                           # just a normal step\n",
    "            reward = MOVE_REWARD # reward for that step\n",
    "            \n",
    "        new_obs = (player-goal,player-enemy) # new observation state after taking action\n",
    "        max_future_q = np.max(q_table[new_obs]) # max q_value for new state\n",
    "        current_q = q_table[obs][action] # current q_value for action taken\n",
    "        \n",
    "        if reward == GOAL_REWARD: # if goal was reached\n",
    "            new_q = reward\n",
    "        else:                     # otherwise update q_value\n",
    "            new_q = ((1-LEARNING_RATE)*current_q) + (LEARNING_RATE*(reward + (DISCOUNT*(max_future_q))))\n",
    "        q_table[obs][action] = new_q # store in Q-Table\n",
    "            \n",
    "        if show: # to show real time movement in open-cv window\n",
    "            env = np.zeros((SIZE, SIZE, 3), dtype=np.uint8) # Black Board\n",
    "            env[goal.x][goal.y] = color[GOAL_I]             # Position of goal in green \n",
    "            env[player.x][player.y] = color[PLAYER_I]       # Position of player in blue\n",
    "            env[enemy.x][enemy.y] = color[ENEMY_I]          # Position of enemy in red\n",
    "            img = Image.fromarray(env, 'RGB')               # Returns image object\n",
    "            img = img.resize((300, 300))                    # Resizing \n",
    "            cv2.imshow(\"Board\", np.array(img))  \n",
    "            if reward == GOAL_REWARD or reward == ENEMY_REWARD: \n",
    "                if cv2.waitKey(500) & 0xFF == ord('q'):\n",
    "                    break\n",
    "            else:\n",
    "                if cv2.waitKey(1) & 0xFF == ord('q'):\n",
    "                    break\n",
    "                    \n",
    "        episode_reward += reward # add to the episode reward list\n",
    "        \n",
    "        if reward == GOAL_REWARD or reward == ENEMY_REWARD: # if goal or enemy reached then end episode\n",
    "            break\n",
    "    \n",
    "    episode_rewards.append(episode_reward) # append it to the list of all episode rewards\n",
    "    \n",
    "    if END_EPSILON >= episode >= START_EPSILON: # episodes between which to decay epsilon\n",
    "        epsilon -= EPSILON_DECAY\n",
    "        \n",
    "cv2.destroyAllWindows() # close all windows"
   ]
  },
  {
   "cell_type": "code",
   "execution_count": 7,
   "id": "f9e195f1",
   "metadata": {},
   "outputs": [
    {
     "data": {
      "image/png": "[encoded data removed]",
      "text/plain": [
       "<Figure size 1080x360 with 1 Axes>"
      ]
     },
     "metadata": {
      "needs_background": "light"
     },
     "output_type": "display_data"
    }
   ],
   "source": [
    "avg = np.convolve(episode_rewards, np.ones((SHOW_EVERY,))/SHOW_EVERY, mode='valid')\n",
    "\n",
    "plt.figure(figsize=(15,5))\n",
    "plt.plot([i for i in range(len(avg))], avg)\n",
    "plt.ylabel(f\"Reward\")\n",
    "plt.xlabel(\"Episode\")\n",
    "plt.show()\n",
    "\n",
    "with open(f\"qtable-{int(time.time())}.pickle\", \"wb\") as f:\n",
    "    pickle.dump(q_table, f)"
   ]
  }
 ],
 "metadata": {
  "kernelspec": {
   "display_name": "Python 3 (ipykernel)",
   "language": "python",
   "name": "python3"
  },
  "language_info": {
   "codemirror_mode": {
    "name": "ipython",
    "version": 3
   },
   "file_extension": ".py",
   "mimetype": "text/x-python",
   "name": "python",
   "nbconvert_exporter": "python",
   "pygments_lexer": "ipython3",
   "version": "3.10.2"
  }
 },
 "nbformat": 4,
 "nbformat_minor": 5
}
