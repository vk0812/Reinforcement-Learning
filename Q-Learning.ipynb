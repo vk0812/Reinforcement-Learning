{
 "cells": [
  {
   "cell_type": "code",
   "execution_count": 1,
   "id": "1f73d1b0",
   "metadata": {},
   "outputs": [
    {
     "name": "stderr",
     "output_type": "stream",
     "text": [
      "C:\\Users\\Vidit\\AppData\\Local\\Programs\\Python\\Python310\\lib\\site-packages\\gym\\wrappers\\monitoring\\video_recorder.py:9: DeprecationWarning: The distutils package is deprecated and slated for removal in Python 3.12. Use setuptools or check PEP 632 for potential alternatives\n",
      "  import distutils.spawn\n"
     ]
    },
    {
     "name": "stdout",
     "output_type": "stream",
     "text": [
      "0\n",
      "Episode: 0 Average: -200.0 Min: -200.0 Max: -200.0\n",
      "500\n",
      "Episode: 500 Average: -200.0 Min: -200.0 Max: -200.0\n",
      "1000\n",
      "Episode: 1000 Average: -200.0 Min: -200.0 Max: -200.0\n",
      "Completed on episode 1459\n",
      "1500\n",
      "Episode: 1500 Average: -199.944 Min: -200.0 Max: -172.0\n",
      "Completed on episode 1589\n",
      "Completed on episode 1963\n",
      "Completed on episode 1972\n"
     ]
    }
   ],
   "source": [
    "import gym\n",
    "import numpy as np\n",
    "\n",
    "env = gym.make(\"MountainCar-v0\")\n",
    "# env.reset() - initial position and initial velocity\n",
    "\n",
    "alpha = 0.1 # learning rate\n",
    "discount = 0.95 # discount factor\n",
    "episodes = 2000 # total episodes\n",
    "show_every = 500\n",
    "\n",
    "epsilon = 0.5 # to give more exploration time (introduces randomness)\n",
    "start_epsilon = 1\n",
    "end_epsilon = episodes // 2\n",
    "epsilon_decay = epsilon / (end_epsilon - start_epsilon) # we will decrease epsilon continuosly\n",
    "\n",
    "# Observable States - position and velocity\n",
    "\n",
    "# print(env.observation_space.high) stores highest values of position and velocity\n",
    "# print(env.observation_space.low) stores lowest values of position and velocity\n",
    "# we might not know the above two for each env\n",
    "\n",
    "# print(env.action_space.n) - actions possible in our env (here - 0(left),1(stay),2(right))\n",
    "\n",
    "DISCRETE_OS_SIZE = [20] * len(env.observation_space.high) # len = 2 since 2 observable states\n",
    "# DISCRETE_OS_SIZE = [20,20]\n",
    "# done to seperate high to low values into 20 different chunks for each pos and velocity\n",
    "\n",
    "discrete_os_win_size = (env.observation_space.high - env.observation_space.low) / DISCRETE_OS_SIZE\n",
    "# we will get the range of each chunk\n",
    "\n",
    "q_table = np.random.uniform(low=-2, high=0, size=(DISCRETE_OS_SIZE + [env.action_space.n])) # initial random Q-Table\n",
    "# size = (20,20,3) - that is for each action all possible combinations of position and velocity\n",
    "\n",
    "ep_rewards = []\n",
    "total_ep_rewards = {'ep':[],'avg':[],'min':[],'max':[]}\n",
    "# min represents worst model performance\n",
    "# max represent best model performance\n",
    "# average represents average model performance\n",
    "# All based on rewards\n",
    "\n",
    "def get_discrete_state(state):\n",
    "    discrete_state = (state - env.observation_space.low) / discrete_os_win_size\n",
    "    return tuple(discrete_state.astype(np.int32))\n",
    "\n",
    "for episode in range(episodes):\n",
    "    episode_reward = 0\n",
    "    if episode % show_every==0:\n",
    "        print(episode)\n",
    "        render = True\n",
    "    else:\n",
    "        render = False\n",
    "        \n",
    "    discrete_state = get_discrete_state(env.reset()) # getting initial discrete state\n",
    "    finish = False\n",
    "\n",
    "    while not finish:\n",
    "        if np.random.random() > epsilon: # done to increase exploration\n",
    "            action = np.argmax(q_table[discrete_state]) # will give you the best action to take\n",
    "        else:\n",
    "            action = np.random.randint(0,env.action_space.n) # random action between 0 1 2\n",
    "            \n",
    "        new_state,reward,finish,_ = env.step(action)\n",
    "        # new_state - [position,velocity]\n",
    "        # if not finished then total reward is -200\n",
    "        new_discrete_state = get_discrete_state(new_state) # discrete state corresponding to new state\n",
    "        \n",
    "        episode_reward += reward # total reward per episode\n",
    "        \n",
    "        if render:\n",
    "            env.render() # render just shows the car moving in pygame window\n",
    "            \n",
    "        if not finish:\n",
    "            max_future_q = np.max(q_table[new_discrete_state])\n",
    "            current_q = q_table[discrete_state + (action,)]\n",
    "\n",
    "            new_q = ((1 - alpha) * current_q) + (alpha * (reward + (discount * max_future_q))) # Q-Learning Formula\n",
    "\n",
    "            q_table[discrete_state + (action,)] = new_q\n",
    "\n",
    "        elif new_state[0] >= env.goal_position:\n",
    "            # env.goal_position here is 0.5\n",
    "            print(f\"Completed on episode {episode}\")\n",
    "            q_table[discrete_state+(action,)] = 0; # highest possible \n",
    "\n",
    "        discrete_state = new_discrete_state\n",
    "    \n",
    "    if end_epsilon >= epsilon >= start_epsilon:\n",
    "        epsilon -= epsilon_decay # decaying to decrease randomness and exploration\n",
    "    \n",
    "    ep_rewards.append(episode_reward)\n",
    "    \n",
    "    if episode % show_every == 0:\n",
    "        average_reward = sum(ep_rewards[-show_every:])/len(ep_rewards[-show_every:])\n",
    "        total_ep_rewards['ep'].append(episode)\n",
    "        total_ep_rewards['avg'].append(average_reward)\n",
    "        total_ep_rewards['min'].append(min(ep_rewards[-show_every:]))\n",
    "        total_ep_rewards['max'].append(max(ep_rewards[-show_every:]))\n",
    "        print(f\"Episode: {episode} Average: {average_reward} Min: {min(ep_rewards[-show_every:])} Max: {max(ep_rewards[-show_every:])}\")\n",
    "    \n",
    "env.close()"
   ]
  },
  {
   "cell_type": "code",
   "execution_count": 2,
   "id": "74f0d8b7",
   "metadata": {},
   "outputs": [
    {
     "data": {
      "image/png": "[encoded data removed]",
      "text/plain": [
       "<Figure size 1080x360 with 1 Axes>"
      ]
     },
     "metadata": {
      "needs_background": "light"
     },
     "output_type": "display_data"
    }
   ],
   "source": [
    "import matplotlib.pyplot as plt\n",
    "\n",
    "plt.figure(figsize=(15,5))\n",
    "plt.plot(total_ep_rewards['ep'],total_ep_rewards['avg'],label=\"Average\")\n",
    "plt.plot(total_ep_rewards['ep'],total_ep_rewards['min'],label=\"Min\")\n",
    "plt.plot(total_ep_rewards['ep'],total_ep_rewards['max'],label=\"Max\")\n",
    "plt.legend(loc=2)\n",
    "plt.show()"
   ]
  }
 ],
 "metadata": {
  "kernelspec": {
   "display_name": "Python 3 (ipykernel)",
   "language": "python",
   "name": "python3"
  },
  "language_info": {
   "codemirror_mode": {
    "name": "ipython",
    "version": 3
   },
   "file_extension": ".py",
   "mimetype": "text/x-python",
   "name": "python",
   "nbconvert_exporter": "python",
   "pygments_lexer": "ipython3",
   "version": "3.10.2"
  }
 },
 "nbformat": 4,
 "nbformat_minor": 5
}
